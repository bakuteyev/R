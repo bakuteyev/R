{
 "cells": [
  {
   "cell_type": "markdown",
   "metadata": {},
   "source": [
    "# Задание\n",
    "Данные получены NASA в серии аэродинамических и акустический испытаний профиля сечения лопаток в аэродинамической трубе. \n",
    "\n",
    "1) Постройте модель линейной и квантильной регрессии. Проверьте выполнение регрессионных предположений. \n",
    "\n",
    "2) Выберете набор независимых переменных и постройте прогноз значения зависимой переменной для двух моделей вместе с доверительными интервалами для прогнозируемых значений.\n"
   ]
  },
  {
   "cell_type": "code",
   "execution_count": 1,
   "metadata": {
    "collapsed": true
   },
   "outputs": [],
   "source": [
    "df <- read.table(\"https://archive.ics.uci.edu/ml/machine-learning-databases/00291/airfoil_self_noise.dat\")"
   ]
  },
  {
   "cell_type": "code",
   "execution_count": 2,
   "metadata": {
    "collapsed": false
   },
   "outputs": [],
   "source": [
    "colnames(df) <-  c('frequency',         # 1. Частота, Гц.\n",
    "                    'angle',            # 2. Угол атаки, градусы.\n",
    "                    'chord_length',     # 3. Длина хорды профиля лопатки, м.\n",
    "                    'fs_velocity',      # 4. Скорость набегающего потока, м/с.\n",
    "                    'ssd_thickness',    # 5. Толщина вытеснения на выпуклой стороне (спинке) лопатки, м.\n",
    "                    'sound_level')      # 6. Уровень громкости, дБ."
   ]
  },
  {
   "cell_type": "code",
   "execution_count": 3,
   "metadata": {
    "collapsed": false
   },
   "outputs": [
    {
     "data": {
      "text/html": [
       "<table>\n",
       "<thead><tr><th scope=col>frequency</th><th scope=col>angle</th><th scope=col>chord_length</th><th scope=col>fs_velocity</th><th scope=col>ssd_thickness</th><th scope=col>sound_level</th></tr></thead>\n",
       "<tbody>\n",
       "\t<tr><td> 800      </td><td>0         </td><td>0.3048    </td><td>71.3      </td><td>0.00266337</td><td>126.201   </td></tr>\n",
       "\t<tr><td>1000      </td><td>0         </td><td>0.3048    </td><td>71.3      </td><td>0.00266337</td><td>125.201   </td></tr>\n",
       "\t<tr><td>1250      </td><td>0         </td><td>0.3048    </td><td>71.3      </td><td>0.00266337</td><td>125.951   </td></tr>\n",
       "\t<tr><td>1600      </td><td>0         </td><td>0.3048    </td><td>71.3      </td><td>0.00266337</td><td>127.591   </td></tr>\n",
       "\t<tr><td>2000      </td><td>0         </td><td>0.3048    </td><td>71.3      </td><td>0.00266337</td><td>127.461   </td></tr>\n",
       "\t<tr><td>2500      </td><td>0         </td><td>0.3048    </td><td>71.3      </td><td>0.00266337</td><td>125.571   </td></tr>\n",
       "</tbody>\n",
       "</table>\n"
      ],
      "text/latex": [
       "\\begin{tabular}{r|llllll}\n",
       " frequency & angle & chord\\_length & fs\\_velocity & ssd\\_thickness & sound\\_level\\\\\n",
       "\\hline\n",
       "\t  800       & 0          & 0.3048     & 71.3       & 0.00266337 & 126.201   \\\\\n",
       "\t 1000       & 0          & 0.3048     & 71.3       & 0.00266337 & 125.201   \\\\\n",
       "\t 1250       & 0          & 0.3048     & 71.3       & 0.00266337 & 125.951   \\\\\n",
       "\t 1600       & 0          & 0.3048     & 71.3       & 0.00266337 & 127.591   \\\\\n",
       "\t 2000       & 0          & 0.3048     & 71.3       & 0.00266337 & 127.461   \\\\\n",
       "\t 2500       & 0          & 0.3048     & 71.3       & 0.00266337 & 125.571   \\\\\n",
       "\\end{tabular}\n"
      ],
      "text/markdown": [
       "\n",
       "frequency | angle | chord_length | fs_velocity | ssd_thickness | sound_level | \n",
       "|---|---|---|---|---|---|\n",
       "|  800       | 0          | 0.3048     | 71.3       | 0.00266337 | 126.201    | \n",
       "| 1000       | 0          | 0.3048     | 71.3       | 0.00266337 | 125.201    | \n",
       "| 1250       | 0          | 0.3048     | 71.3       | 0.00266337 | 125.951    | \n",
       "| 1600       | 0          | 0.3048     | 71.3       | 0.00266337 | 127.591    | \n",
       "| 2000       | 0          | 0.3048     | 71.3       | 0.00266337 | 127.461    | \n",
       "| 2500       | 0          | 0.3048     | 71.3       | 0.00266337 | 125.571    | \n",
       "\n",
       "\n"
      ],
      "text/plain": [
       "  frequency angle chord_length fs_velocity ssd_thickness sound_level\n",
       "1  800      0     0.3048       71.3        0.00266337    126.201    \n",
       "2 1000      0     0.3048       71.3        0.00266337    125.201    \n",
       "3 1250      0     0.3048       71.3        0.00266337    125.951    \n",
       "4 1600      0     0.3048       71.3        0.00266337    127.591    \n",
       "5 2000      0     0.3048       71.3        0.00266337    127.461    \n",
       "6 2500      0     0.3048       71.3        0.00266337    125.571    "
      ]
     },
     "metadata": {},
     "output_type": "display_data"
    }
   ],
   "source": [
    "head(df)"
   ]
  },
  {
   "cell_type": "markdown",
   "metadata": {},
   "source": [
    "# Линейная регрессия\n",
    "Проверим линейную зависимость уровня громкости от остальных факторов. Сначала проверим коррелированность факторов."
   ]
  },
  {
   "cell_type": "code",
   "execution_count": 4,
   "metadata": {
    "collapsed": false
   },
   "outputs": [],
   "source": [
    "correlations <- as.data.frame(as.table(cor(df[,c('frequency',     \n",
    "                                                'angle',        \n",
    "                                                'chord_length', \n",
    "                                                'fs_velocity',  \n",
    "                                                'ssd_thickness')])))"
   ]
  },
  {
   "cell_type": "code",
   "execution_count": 5,
   "metadata": {
    "collapsed": false
   },
   "outputs": [],
   "source": [
    "correlations <- correlations[correlations$Var1 != correlations$Var2,]\n",
    "correlations <- correlations[abs(correlations$Freq) > 0.5, ]"
   ]
  },
  {
   "cell_type": "code",
   "execution_count": 6,
   "metadata": {
    "collapsed": false
   },
   "outputs": [
    {
     "data": {
      "text/html": [
       "<table>\n",
       "<thead><tr><th></th><th scope=col>Var1</th><th scope=col>Var2</th><th scope=col>Freq</th></tr></thead>\n",
       "<tbody>\n",
       "\t<tr><th scope=row>8</th><td>chord_length </td><td>angle        </td><td>-0.5048681   </td></tr>\n",
       "\t<tr><th scope=row>10</th><td>ssd_thickness</td><td>angle        </td><td> 0.7533938   </td></tr>\n",
       "\t<tr><th scope=row>12</th><td>angle        </td><td>chord_length </td><td>-0.5048681   </td></tr>\n",
       "\t<tr><th scope=row>22</th><td>angle        </td><td>ssd_thickness</td><td> 0.7533938   </td></tr>\n",
       "</tbody>\n",
       "</table>\n"
      ],
      "text/latex": [
       "\\begin{tabular}{r|lll}\n",
       "  & Var1 & Var2 & Freq\\\\\n",
       "\\hline\n",
       "\t8 & chord\\_length  & angle           & -0.5048681     \\\\\n",
       "\t10 & ssd\\_thickness & angle           &  0.7533938     \\\\\n",
       "\t12 & angle           & chord\\_length  & -0.5048681     \\\\\n",
       "\t22 & angle           & ssd\\_thickness &  0.7533938     \\\\\n",
       "\\end{tabular}\n"
      ],
      "text/markdown": [
       "\n",
       "| <!--/--> | Var1 | Var2 | Freq | \n",
       "|---|---|---|---|\n",
       "| 8 | chord_length  | angle         | -0.5048681    | \n",
       "| 10 | ssd_thickness | angle         |  0.7533938    | \n",
       "| 12 | angle         | chord_length  | -0.5048681    | \n",
       "| 22 | angle         | ssd_thickness |  0.7533938    | \n",
       "\n",
       "\n"
      ],
      "text/plain": [
       "   Var1          Var2          Freq      \n",
       "8  chord_length  angle         -0.5048681\n",
       "10 ssd_thickness angle          0.7533938\n",
       "12 angle         chord_length  -0.5048681\n",
       "22 angle         ssd_thickness  0.7533938"
      ]
     },
     "metadata": {},
     "output_type": "display_data"
    }
   ],
   "source": [
    "correlations"
   ]
  },
  {
   "cell_type": "markdown",
   "metadata": {},
   "source": [
    "Как видно угол атаки сильно коррелирует с толщиной вытеснения на выпуклой стороне и с длинной хорды, поэтому исключим его."
   ]
  },
  {
   "cell_type": "code",
   "execution_count": 7,
   "metadata": {
    "collapsed": true
   },
   "outputs": [],
   "source": [
    "df <- df[,c('frequency',           \n",
    "            'chord_length', \n",
    "            'fs_velocity',  \n",
    "            'ssd_thickness',\n",
    "            'sound_level')]"
   ]
  },
  {
   "cell_type": "code",
   "execution_count": 8,
   "metadata": {
    "collapsed": false
   },
   "outputs": [],
   "source": [
    "linear_model <- lm(sound_level ~ frequency + chord_length + fs_velocity + ssd_thickness, data=df)"
   ]
  },
  {
   "cell_type": "code",
   "execution_count": 9,
   "metadata": {
    "collapsed": false
   },
   "outputs": [
    {
     "data": {
      "text/plain": [
       "\n",
       "Call:\n",
       "lm(formula = sound_level ~ frequency + chord_length + fs_velocity + \n",
       "    ssd_thickness, data = df)\n",
       "\n",
       "Residuals:\n",
       "    Min      1Q  Median      3Q     Max \n",
       "-19.866  -3.109  -0.018   3.332  15.932 \n",
       "\n",
       "Coefficients:\n",
       "                Estimate Std. Error t value Pr(>|t|)    \n",
       "(Intercept)    1.304e+02  5.131e-01  254.03   <2e-16 ***\n",
       "frequency     -1.174e-03  4.246e-05  -27.64   <2e-16 ***\n",
       "chord_length  -2.597e+01  1.414e+00  -18.36   <2e-16 ***\n",
       "fs_velocity    8.686e-02  8.351e-03   10.40   <2e-16 ***\n",
       "ssd_thickness -2.692e+02  1.034e+01  -26.02   <2e-16 ***\n",
       "---\n",
       "Signif. codes:  0 '***' 0.001 '**' 0.01 '*' 0.05 '.' 0.1 ' ' 1\n",
       "\n",
       "Residual standard error: 4.993 on 1498 degrees of freedom\n",
       "Multiple R-squared:  0.4776,\tAdjusted R-squared:  0.4763 \n",
       "F-statistic: 342.4 on 4 and 1498 DF,  p-value: < 2.2e-16\n"
      ]
     },
     "metadata": {},
     "output_type": "display_data"
    }
   ],
   "source": [
    "summary(linear_model)"
   ]
  },
  {
   "cell_type": "markdown",
   "metadata": {},
   "source": [
    "Как видно имеется линейгая зависимость, поскольку \n",
    "\n",
    "1) Все коэффициенты линейной регрессии являются значимыми при уровне значимости 0.05. \n",
    "\n",
    "2) Также коэффициент $R^2$ значительно больше 0. \n",
    "\n",
    "3) При уровне значимости 0.05 нулевая гипотеза о равенстве коэффициентов нулю может быть отвергнута по Критерию Фишера поскольку p-value значительно меньше 0.05."
   ]
  },
  {
   "cell_type": "markdown",
   "metadata": {},
   "source": [
    "## Линейная регрессия: прогноз\n",
    "Поскольку все вакторы имеют численный тип, то в качестве точки для прогноза можно выбрать точку со средним значением по каждому из факторов."
   ]
  },
  {
   "cell_type": "code",
   "execution_count": 10,
   "metadata": {
    "collapsed": false
   },
   "outputs": [
    {
     "data": {
      "text/html": [
       "<table>\n",
       "<thead><tr><th scope=col>frequency</th><th scope=col>chord_length</th><th scope=col>fs_velocity</th><th scope=col>ssd_thickness</th><th scope=col>sound_level</th></tr></thead>\n",
       "<tbody>\n",
       "\t<tr><td>2886.381  </td><td>0.1365482 </td><td>50.86075  </td><td>0.01113988</td><td>124.8359  </td></tr>\n",
       "</tbody>\n",
       "</table>\n"
      ],
      "text/latex": [
       "\\begin{tabular}{r|lllll}\n",
       " frequency & chord\\_length & fs\\_velocity & ssd\\_thickness & sound\\_level\\\\\n",
       "\\hline\n",
       "\t 2886.381   & 0.1365482  & 50.86075   & 0.01113988 & 124.8359  \\\\\n",
       "\\end{tabular}\n"
      ],
      "text/markdown": [
       "\n",
       "frequency | chord_length | fs_velocity | ssd_thickness | sound_level | \n",
       "|---|\n",
       "| 2886.381   | 0.1365482  | 50.86075   | 0.01113988 | 124.8359   | \n",
       "\n",
       "\n"
      ],
      "text/plain": [
       "  frequency chord_length fs_velocity ssd_thickness sound_level\n",
       "1 2886.381  0.1365482    50.86075    0.01113988    124.8359   "
      ]
     },
     "metadata": {},
     "output_type": "display_data"
    }
   ],
   "source": [
    "newdf <- as.data.frame.list(colMeans(df))\n",
    "newdf"
   ]
  },
  {
   "cell_type": "markdown",
   "metadata": {},
   "source": [
    "Перед построением прогноза необходимо убедиться, что остатки распределены согласно нормальному закону."
   ]
  },
  {
   "cell_type": "code",
   "execution_count": 11,
   "metadata": {
    "collapsed": false
   },
   "outputs": [
    {
     "data": {
      "image/png": "[encoded data removed]",
      "text/plain": [
       "Plot with title \"Histogram of linear_model$residuals\""
      ]
     },
     "metadata": {},
     "output_type": "display_data"
    }
   ],
   "source": [
    "options(repr.plot.width = 10, repr.plot.height = 5)\n",
    "hist(linear_model$residuals, probability = T)"
   ]
  },
  {
   "cell_type": "code",
   "execution_count": 12,
   "metadata": {
    "collapsed": false
   },
   "outputs": [
    {
     "data": {
      "text/plain": [
       "\n",
       "\tShapiro-Wilk normality test\n",
       "\n",
       "data:  linear_model$residuals\n",
       "W = 0.9939, p-value = 7.58e-06\n"
      ]
     },
     "metadata": {},
     "output_type": "display_data"
    }
   ],
   "source": [
    "shapiro.test(linear_model$residuals)"
   ]
  },
  {
   "cell_type": "markdown",
   "metadata": {},
   "source": [
    "К сожалению, при уровне значимости 0.05 согласно критерию Шапиро-Уилка гипотеза о нормальности должна быть отвергнута.  Построение доверительных иннтервалов является не совсем корректным. Возможно следует произвести предварительну обработку данных.\n",
    "\n",
    "Построим прогноз с доверительным 95% интервалом для выбранной точки."
   ]
  },
  {
   "cell_type": "code",
   "execution_count": 13,
   "metadata": {
    "collapsed": false
   },
   "outputs": [
    {
     "data": {
      "text/html": [
       "<table>\n",
       "<thead><tr><th></th><th scope=col>fit</th><th scope=col>lwr</th><th scope=col>upr</th></tr></thead>\n",
       "<tbody>\n",
       "\t<tr><th scope=row>1</th><td>124.8359</td><td>115.0395</td><td>134.6324</td></tr>\n",
       "</tbody>\n",
       "</table>\n"
      ],
      "text/latex": [
       "\\begin{tabular}{r|lll}\n",
       "  & fit & lwr & upr\\\\\n",
       "\\hline\n",
       "\t1 & 124.8359 & 115.0395 & 134.6324\\\\\n",
       "\\end{tabular}\n"
      ],
      "text/markdown": [
       "\n",
       "| <!--/--> | fit | lwr | upr | \n",
       "|---|\n",
       "| 1 | 124.8359 | 115.0395 | 134.6324 | \n",
       "\n",
       "\n"
      ],
      "text/plain": [
       "  fit      lwr      upr     \n",
       "1 124.8359 115.0395 134.6324"
      ]
     },
     "metadata": {},
     "output_type": "display_data"
    }
   ],
   "source": [
    "predict(linear_model, newdf, interval=\"predict\") "
   ]
  },
  {
   "cell_type": "markdown",
   "metadata": {},
   "source": [
    "# Квантильная регрессия"
   ]
  },
  {
   "cell_type": "code",
   "execution_count": 17,
   "metadata": {
    "collapsed": false
   },
   "outputs": [],
   "source": [
    "library(\"quantreg\")"
   ]
  },
  {
   "cell_type": "markdown",
   "metadata": {},
   "source": [
    "Аналогично потсроим зависимости для квнтильной регрессии с квантилями 0.25, 0.5 и 0.75."
   ]
  },
  {
   "cell_type": "code",
   "execution_count": 28,
   "metadata": {
    "collapsed": false
   },
   "outputs": [
    {
     "data": {
      "text/plain": [
       "\n",
       "Call: rq(formula = sound_level ~ frequency + chord_length + fs_velocity + \n",
       "    ssd_thickness, tau = 0.25, data = df)\n",
       "\n",
       "tau: [1] 0.25\n",
       "\n",
       "Coefficients:\n",
       "              Value      Std. Error t value    Pr(>|t|)  \n",
       "(Intercept)    127.43380    0.65252  195.29354    0.00000\n",
       "frequency       -0.00145    0.00004  -34.60381    0.00000\n",
       "chord_length   -20.74500    1.68472  -12.31360    0.00000\n",
       "fs_velocity      0.09021    0.00900   10.02234    0.00000\n",
       "ssd_thickness -291.93891    6.56122  -44.49463    0.00000"
      ]
     },
     "metadata": {},
     "output_type": "display_data"
    }
   ],
   "source": [
    "quantile_model <- rq(sound_level ~ frequency + chord_length + fs_velocity + ssd_thickness, data=df, tau=0.25)\n",
    "summary(quantile_model)"
   ]
  },
  {
   "cell_type": "code",
   "execution_count": 29,
   "metadata": {
    "collapsed": false
   },
   "outputs": [
    {
     "data": {
      "text/plain": [
       "\n",
       "Call: rq(formula = sound_level ~ frequency + chord_length + fs_velocity + \n",
       "    ssd_thickness, tau = 0.5, data = df)\n",
       "\n",
       "tau: [1] 0.5\n",
       "\n",
       "Coefficients:\n",
       "              Value      Std. Error t value    Pr(>|t|)  \n",
       "(Intercept)    131.83935    0.58836  224.08065    0.00000\n",
       "frequency       -0.00148    0.00005  -28.17041    0.00000\n",
       "chord_length   -29.39741    1.45549  -20.19761    0.00000\n",
       "fs_velocity      0.09031    0.00913    9.89034    0.00000\n",
       "ssd_thickness -303.96960   16.78941  -18.10484    0.00000"
      ]
     },
     "metadata": {},
     "output_type": "display_data"
    }
   ],
   "source": [
    "quantile_model <- rq(sound_level ~ frequency + chord_length + fs_velocity + ssd_thickness, data=df, tau=0.5)\n",
    "summary(quantile_model)"
   ]
  },
  {
   "cell_type": "code",
   "execution_count": 30,
   "metadata": {
    "collapsed": false
   },
   "outputs": [
    {
     "data": {
      "text/plain": [
       "\n",
       "Call: rq(formula = sound_level ~ frequency + chord_length + fs_velocity + \n",
       "    ssd_thickness, tau = 0.75, data = df)\n",
       "\n",
       "tau: [1] 0.75\n",
       "\n",
       "Coefficients:\n",
       "              Value      Std. Error t value    Pr(>|t|)  \n",
       "(Intercept)    136.04258    0.71844  189.35785    0.00000\n",
       "frequency       -0.00134    0.00010  -14.04119    0.00000\n",
       "chord_length   -35.46116    1.87154  -18.94758    0.00000\n",
       "fs_velocity      0.07373    0.01058    6.97015    0.00000\n",
       "ssd_thickness -277.47876   14.28888  -19.41920    0.00000"
      ]
     },
     "metadata": {},
     "output_type": "display_data"
    }
   ],
   "source": [
    "quantile_model <- rq(sound_level ~ frequency + chord_length + fs_velocity + ssd_thickness, data=df, tau=0.75)\n",
    "summary(quantile_model)"
   ]
  },
  {
   "cell_type": "markdown",
   "metadata": {},
   "source": [
    "Во всех случаях коэффициенты регрессии значимы. Заметим также, что для разных квантилей мы получили разные зависимости. То есть для лопаток с высоким уровнем шума и для лопаток с низким уровнем шума зависисмость от факторов различна."
   ]
  },
  {
   "cell_type": "markdown",
   "metadata": {},
   "source": [
    "## Квантильная регрессия: прогноз"
   ]
  },
  {
   "cell_type": "markdown",
   "metadata": {},
   "source": [
    "Аналогично линейной регрессии построим прогноз для квантильной регрессии с квантилем 0.75"
   ]
  },
  {
   "cell_type": "code",
   "execution_count": 32,
   "metadata": {
    "collapsed": false
   },
   "outputs": [
    {
     "data": {
      "text/html": [
       "<table>\n",
       "<thead><tr><th scope=col>frequency</th><th scope=col>chord_length</th><th scope=col>fs_velocity</th><th scope=col>ssd_thickness</th><th scope=col>sound_level</th></tr></thead>\n",
       "<tbody>\n",
       "\t<tr><td>2886.381  </td><td>0.1365482 </td><td>50.86075  </td><td>0.01113988</td><td>124.8359  </td></tr>\n",
       "</tbody>\n",
       "</table>\n"
      ],
      "text/latex": [
       "\\begin{tabular}{r|lllll}\n",
       " frequency & chord\\_length & fs\\_velocity & ssd\\_thickness & sound\\_level\\\\\n",
       "\\hline\n",
       "\t 2886.381   & 0.1365482  & 50.86075   & 0.01113988 & 124.8359  \\\\\n",
       "\\end{tabular}\n"
      ],
      "text/markdown": [
       "\n",
       "frequency | chord_length | fs_velocity | ssd_thickness | sound_level | \n",
       "|---|\n",
       "| 2886.381   | 0.1365482  | 50.86075   | 0.01113988 | 124.8359   | \n",
       "\n",
       "\n"
      ],
      "text/plain": [
       "  frequency chord_length fs_velocity ssd_thickness sound_level\n",
       "1 2886.381  0.1365482    50.86075    0.01113988    124.8359   "
      ]
     },
     "metadata": {},
     "output_type": "display_data"
    }
   ],
   "source": [
    "newdf <- as.data.frame.list(colMeans(df))\n",
    "newdf"
   ]
  },
  {
   "cell_type": "code",
   "execution_count": 31,
   "metadata": {
    "collapsed": false
   },
   "outputs": [
    {
     "data": {
      "image/png": "[encoded data removed]",
      "text/plain": [
       "Plot with title \"Histogram of quantile_model$residuals\""
      ]
     },
     "metadata": {},
     "output_type": "display_data"
    }
   ],
   "source": [
    "hist(quantile_model$residuals, probability = T)"
   ]
  },
  {
   "cell_type": "code",
   "execution_count": 33,
   "metadata": {
    "collapsed": false
   },
   "outputs": [
    {
     "data": {
      "text/plain": [
       "\n",
       "\tShapiro-Wilk normality test\n",
       "\n",
       "data:  quantile_model$residuals\n",
       "W = 0.986, p-value = 7.024e-11\n"
      ]
     },
     "metadata": {},
     "output_type": "display_data"
    }
   ],
   "source": [
    "shapiro.test(quantile_model$residuals)"
   ]
  },
  {
   "cell_type": "markdown",
   "metadata": {},
   "source": [
    "Нормальности остатков по-пре"
   ]
  },
  {
   "cell_type": "code",
   "execution_count": 36,
   "metadata": {
    "collapsed": false
   },
   "outputs": [
    {
     "data": {
      "text/html": [
       "<table>\n",
       "<thead><tr><th></th><th scope=col>fit</th><th scope=col>lower</th><th scope=col>higher</th></tr></thead>\n",
       "<tbody>\n",
       "\t<tr><th scope=row>1</th><td>127.9901</td><td>127.5902</td><td>128.3899</td></tr>\n",
       "</tbody>\n",
       "</table>\n"
      ],
      "text/latex": [
       "\\begin{tabular}{r|lll}\n",
       "  & fit & lower & higher\\\\\n",
       "\\hline\n",
       "\t1 & 127.9901 & 127.5902 & 128.3899\\\\\n",
       "\\end{tabular}\n"
      ],
      "text/markdown": [
       "\n",
       "| <!--/--> | fit | lower | higher | \n",
       "|---|\n",
       "| 1 | 127.9901 | 127.5902 | 128.3899 | \n",
       "\n",
       "\n"
      ],
      "text/plain": [
       "  fit      lower    higher  \n",
       "1 127.9901 127.5902 128.3899"
      ]
     },
     "metadata": {},
     "output_type": "display_data"
    }
   ],
   "source": [
    "predict(quantile_model, newdf, interval=c(\"confidence\")) "
   ]
  }
 ],
 "metadata": {
  "kernelspec": {
   "display_name": "R",
   "language": "R",
   "name": "ir"
  },
  "language_info": {
   "codemirror_mode": "r",
   "file_extension": ".r",
   "mimetype": "text/x-r-source",
   "name": "R",
   "pygments_lexer": "r",
   "version": "3.3.3"
  }
 },
 "nbformat": 4,
 "nbformat_minor": 2
}

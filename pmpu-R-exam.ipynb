{
 "cells": [
  {
   "cell_type": "code",
   "execution_count": 7,
   "metadata": {
    "collapsed": true
   },
   "outputs": [],
   "source": [
    "df <- read.table(\"https://archive.ics.uci.edu/ml/machine-learning-databases/00291/airfoil_self_noise.dat\")"
   ]
  },
  {
   "cell_type": "code",
   "execution_count": 8,
   "metadata": {
    "collapsed": false
   },
   "outputs": [],
   "source": [
    "colnames(df) <-  c('frequency', \t\t# 1. Частота, Гц.\n",
    "                    'angle', \t\t\t# 2. Угол атаки, градусы.\n",
    "                    'chord_length', \t# 3. Длина хорды профиля лопатки, м.\n",
    "                    'fs_velocity', \t\t# 4. Скорость набегающего потока, м/с.\n",
    "                    'ssd_thickness', \t# 5. Толщина вытеснения на выпуклой стороне (спинке) лопатки, м.\n",
    "                    'sound_level') \t\t# 6. Уровень громкости, дБ."
   ]
  },
  {
   "cell_type": "code",
   "execution_count": 9,
   "metadata": {
    "collapsed": false
   },
   "outputs": [
    {
     "data": {
      "text/html": [
       "<table>\n",
       "<thead><tr><th scope=col>frequency</th><th scope=col>angle</th><th scope=col>chord_length</th><th scope=col>fs_velocity</th><th scope=col>ssd_thickness</th><th scope=col>sound_level</th></tr></thead>\n",
       "<tbody>\n",
       "\t<tr><td> 800      </td><td>0         </td><td>0.3048    </td><td>71.3      </td><td>0.00266337</td><td>126.201   </td></tr>\n",
       "\t<tr><td>1000      </td><td>0         </td><td>0.3048    </td><td>71.3      </td><td>0.00266337</td><td>125.201   </td></tr>\n",
       "\t<tr><td>1250      </td><td>0         </td><td>0.3048    </td><td>71.3      </td><td>0.00266337</td><td>125.951   </td></tr>\n",
       "\t<tr><td>1600      </td><td>0         </td><td>0.3048    </td><td>71.3      </td><td>0.00266337</td><td>127.591   </td></tr>\n",
       "\t<tr><td>2000      </td><td>0         </td><td>0.3048    </td><td>71.3      </td><td>0.00266337</td><td>127.461   </td></tr>\n",
       "\t<tr><td>2500      </td><td>0         </td><td>0.3048    </td><td>71.3      </td><td>0.00266337</td><td>125.571   </td></tr>\n",
       "</tbody>\n",
       "</table>\n"
      ],
      "text/latex": [
       "\\begin{tabular}{r|llllll}\n",
       " frequency & angle & chord\\_length & fs\\_velocity & ssd\\_thickness & sound\\_level\\\\\n",
       "\\hline\n",
       "\t  800       & 0          & 0.3048     & 71.3       & 0.00266337 & 126.201   \\\\\n",
       "\t 1000       & 0          & 0.3048     & 71.3       & 0.00266337 & 125.201   \\\\\n",
       "\t 1250       & 0          & 0.3048     & 71.3       & 0.00266337 & 125.951   \\\\\n",
       "\t 1600       & 0          & 0.3048     & 71.3       & 0.00266337 & 127.591   \\\\\n",
       "\t 2000       & 0          & 0.3048     & 71.3       & 0.00266337 & 127.461   \\\\\n",
       "\t 2500       & 0          & 0.3048     & 71.3       & 0.00266337 & 125.571   \\\\\n",
       "\\end{tabular}\n"
      ],
      "text/markdown": [
       "\n",
       "frequency | angle | chord_length | fs_velocity | ssd_thickness | sound_level | \n",
       "|---|---|---|---|---|---|\n",
       "|  800       | 0          | 0.3048     | 71.3       | 0.00266337 | 126.201    | \n",
       "| 1000       | 0          | 0.3048     | 71.3       | 0.00266337 | 125.201    | \n",
       "| 1250       | 0          | 0.3048     | 71.3       | 0.00266337 | 125.951    | \n",
       "| 1600       | 0          | 0.3048     | 71.3       | 0.00266337 | 127.591    | \n",
       "| 2000       | 0          | 0.3048     | 71.3       | 0.00266337 | 127.461    | \n",
       "| 2500       | 0          | 0.3048     | 71.3       | 0.00266337 | 125.571    | \n",
       "\n",
       "\n"
      ],
      "text/plain": [
       "  frequency angle chord_length fs_velocity ssd_thickness sound_level\n",
       "1  800      0     0.3048       71.3        0.00266337    126.201    \n",
       "2 1000      0     0.3048       71.3        0.00266337    125.201    \n",
       "3 1250      0     0.3048       71.3        0.00266337    125.951    \n",
       "4 1600      0     0.3048       71.3        0.00266337    127.591    \n",
       "5 2000      0     0.3048       71.3        0.00266337    127.461    \n",
       "6 2500      0     0.3048       71.3        0.00266337    125.571    "
      ]
     },
     "metadata": {},
     "output_type": "display_data"
    }
   ],
   "source": [
    "head(df)"
   ]
  },
  {
   "cell_type": "code",
   "execution_count": 10,
   "metadata": {
    "collapsed": true
   },
   "outputs": [],
   "source": [
    "fit <- lm(sound_level ~ frequency + angle + chord_length + fs_velocity + ssd_thickness, data=df)"
   ]
  },
  {
   "cell_type": "code",
   "execution_count": 11,
   "metadata": {
    "collapsed": false
   },
   "outputs": [
    {
     "data": {
      "text/plain": [
       "\n",
       "Call:\n",
       "lm(formula = sound_level ~ frequency + angle + chord_length + \n",
       "    fs_velocity + ssd_thickness, data = df)\n",
       "\n",
       "Residuals:\n",
       "    Min      1Q  Median      3Q     Max \n",
       "-17.480  -2.882  -0.209   3.152  16.064 \n",
       "\n",
       "Coefficients:\n",
       "                Estimate Std. Error t value Pr(>|t|)    \n",
       "(Intercept)    1.328e+02  5.447e-01  243.87   <2e-16 ***\n",
       "frequency     -1.282e-03  4.211e-05  -30.45   <2e-16 ***\n",
       "angle         -4.219e-01  3.890e-02  -10.85   <2e-16 ***\n",
       "chord_length  -3.569e+01  1.630e+00  -21.89   <2e-16 ***\n",
       "fs_velocity    9.985e-02  8.132e-03   12.28   <2e-16 ***\n",
       "ssd_thickness -1.473e+02  1.501e+01   -9.81   <2e-16 ***\n",
       "---\n",
       "Signif. codes:  0 '***' 0.001 '**' 0.01 '*' 0.05 '.' 0.1 ' ' 1\n",
       "\n",
       "Residual standard error: 4.809 on 1497 degrees of freedom\n",
       "Multiple R-squared:  0.5157,\tAdjusted R-squared:  0.5141 \n",
       "F-statistic: 318.8 on 5 and 1497 DF,  p-value: < 2.2e-16\n"
      ]
     },
     "metadata": {},
     "output_type": "display_data"
    }
   ],
   "source": [
    "summary(fit)"
   ]
  }
 ],
 "metadata": {
  "kernelspec": {
   "display_name": "R",
   "language": "R",
   "name": "ir"
  },
  "language_info": {
   "codemirror_mode": "r",
   "file_extension": ".r",
   "mimetype": "text/x-r-source",
   "name": "R",
   "pygments_lexer": "r",
   "version": "3.3.3"
  }
 },
 "nbformat": 4,
 "nbformat_minor": 2
}

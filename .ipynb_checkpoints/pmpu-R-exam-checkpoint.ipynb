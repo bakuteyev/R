{
 "cells": [
  {
   "cell_type": "markdown",
   "metadata": {},
   "source": [
    "# Задание\n",
    "Данные получены NASA в серии аэродинамических и акустический испытаний профиля сечения лопаток в аэродинамической трубе. \n",
    "\n",
    "1) Постройте модель линейной и квантильной регрессии. Проверьте выполнение регрессионных предположений. \n",
    "\n",
    "2) Выберете набор независимых переменных и постройте прогноз значения зависимой переменной для двух моделей вместе с доверительными интервалами для прогнозируемых значений.\n"
   ]
  },
  {
   "cell_type": "code",
   "execution_count": 1,
   "metadata": {
    "collapsed": true
   },
   "outputs": [],
   "source": [
    "df <- read.table(\"https://archive.ics.uci.edu/ml/machine-learning-databases/00291/airfoil_self_noise.dat\")"
   ]
  },
  {
   "cell_type": "code",
   "execution_count": 2,
   "metadata": {
    "collapsed": false
   },
   "outputs": [],
   "source": [
    "colnames(df) <-  c('frequency',         # 1. Частота, Гц.\n",
    "                    'angle',            # 2. Угол атаки, градусы.\n",
    "                    'chord_length',     # 3. Длина хорды профиля лопатки, м.\n",
    "                    'fs_velocity',      # 4. Скорость набегающего потока, м/с.\n",
    "                    'ssd_thickness',    # 5. Толщина вытеснения на выпуклой стороне (спинке) лопатки, м.\n",
    "                    'sound_level')      # 6. Уровень громкости, дБ."
   ]
  },
  {
   "cell_type": "code",
   "execution_count": 3,
   "metadata": {
    "collapsed": false
   },
   "outputs": [
    {
     "data": {
      "text/html": [
       "<table>\n",
       "<thead><tr><th scope=col>frequency</th><th scope=col>angle</th><th scope=col>chord_length</th><th scope=col>fs_velocity</th><th scope=col>ssd_thickness</th><th scope=col>sound_level</th></tr></thead>\n",
       "<tbody>\n",
       "\t<tr><td> 800      </td><td>0         </td><td>0.3048    </td><td>71.3      </td><td>0.00266337</td><td>126.201   </td></tr>\n",
       "\t<tr><td>1000      </td><td>0         </td><td>0.3048    </td><td>71.3      </td><td>0.00266337</td><td>125.201   </td></tr>\n",
       "\t<tr><td>1250      </td><td>0         </td><td>0.3048    </td><td>71.3      </td><td>0.00266337</td><td>125.951   </td></tr>\n",
       "\t<tr><td>1600      </td><td>0         </td><td>0.3048    </td><td>71.3      </td><td>0.00266337</td><td>127.591   </td></tr>\n",
       "\t<tr><td>2000      </td><td>0         </td><td>0.3048    </td><td>71.3      </td><td>0.00266337</td><td>127.461   </td></tr>\n",
       "\t<tr><td>2500      </td><td>0         </td><td>0.3048    </td><td>71.3      </td><td>0.00266337</td><td>125.571   </td></tr>\n",
       "</tbody>\n",
       "</table>\n"
      ],
      "text/latex": [
       "\\begin{tabular}{r|llllll}\n",
       " frequency & angle & chord\\_length & fs\\_velocity & ssd\\_thickness & sound\\_level\\\\\n",
       "\\hline\n",
       "\t  800       & 0          & 0.3048     & 71.3       & 0.00266337 & 126.201   \\\\\n",
       "\t 1000       & 0          & 0.3048     & 71.3       & 0.00266337 & 125.201   \\\\\n",
       "\t 1250       & 0          & 0.3048     & 71.3       & 0.00266337 & 125.951   \\\\\n",
       "\t 1600       & 0          & 0.3048     & 71.3       & 0.00266337 & 127.591   \\\\\n",
       "\t 2000       & 0          & 0.3048     & 71.3       & 0.00266337 & 127.461   \\\\\n",
       "\t 2500       & 0          & 0.3048     & 71.3       & 0.00266337 & 125.571   \\\\\n",
       "\\end{tabular}\n"
      ],
      "text/markdown": [
       "\n",
       "frequency | angle | chord_length | fs_velocity | ssd_thickness | sound_level | \n",
       "|---|---|---|---|---|---|\n",
       "|  800       | 0          | 0.3048     | 71.3       | 0.00266337 | 126.201    | \n",
       "| 1000       | 0          | 0.3048     | 71.3       | 0.00266337 | 125.201    | \n",
       "| 1250       | 0          | 0.3048     | 71.3       | 0.00266337 | 125.951    | \n",
       "| 1600       | 0          | 0.3048     | 71.3       | 0.00266337 | 127.591    | \n",
       "| 2000       | 0          | 0.3048     | 71.3       | 0.00266337 | 127.461    | \n",
       "| 2500       | 0          | 0.3048     | 71.3       | 0.00266337 | 125.571    | \n",
       "\n",
       "\n"
      ],
      "text/plain": [
       "  frequency angle chord_length fs_velocity ssd_thickness sound_level\n",
       "1  800      0     0.3048       71.3        0.00266337    126.201    \n",
       "2 1000      0     0.3048       71.3        0.00266337    125.201    \n",
       "3 1250      0     0.3048       71.3        0.00266337    125.951    \n",
       "4 1600      0     0.3048       71.3        0.00266337    127.591    \n",
       "5 2000      0     0.3048       71.3        0.00266337    127.461    \n",
       "6 2500      0     0.3048       71.3        0.00266337    125.571    "
      ]
     },
     "metadata": {},
     "output_type": "display_data"
    }
   ],
   "source": [
    "head(df)"
   ]
  },
  {
   "cell_type": "markdown",
   "metadata": {},
   "source": [
    "# Линейная регрессия\n",
    "Проверим линейную зависимость уровня громкости от остальных факторов. Сначала проверим коррелированность факторов."
   ]
  },
  {
   "cell_type": "code",
   "execution_count": 4,
   "metadata": {
    "collapsed": false
   },
   "outputs": [],
   "source": [
    "correlations <- as.data.frame(as.table(cor(df[,c('frequency',     \n",
    "                                                'angle',        \n",
    "                                                'chord_length', \n",
    "                                                'fs_velocity',  \n",
    "                                                'ssd_thickness')])))"
   ]
  },
  {
   "cell_type": "code",
   "execution_count": 5,
   "metadata": {
    "collapsed": false
   },
   "outputs": [],
   "source": [
    "correlations <- correlations[correlations$Var1 != correlations$Var2,]\n",
    "correlations <- correlations[abs(correlations$Freq) > 0.5, ]"
   ]
  },
  {
   "cell_type": "code",
   "execution_count": 6,
   "metadata": {
    "collapsed": false
   },
   "outputs": [
    {
     "data": {
      "text/html": [
       "<table>\n",
       "<thead><tr><th></th><th scope=col>Var1</th><th scope=col>Var2</th><th scope=col>Freq</th></tr></thead>\n",
       "<tbody>\n",
       "\t<tr><th scope=row>8</th><td>chord_length </td><td>angle        </td><td>-0.5048681   </td></tr>\n",
       "\t<tr><th scope=row>10</th><td>ssd_thickness</td><td>angle        </td><td> 0.7533938   </td></tr>\n",
       "\t<tr><th scope=row>12</th><td>angle        </td><td>chord_length </td><td>-0.5048681   </td></tr>\n",
       "\t<tr><th scope=row>22</th><td>angle        </td><td>ssd_thickness</td><td> 0.7533938   </td></tr>\n",
       "</tbody>\n",
       "</table>\n"
      ],
      "text/latex": [
       "\\begin{tabular}{r|lll}\n",
       "  & Var1 & Var2 & Freq\\\\\n",
       "\\hline\n",
       "\t8 & chord\\_length  & angle           & -0.5048681     \\\\\n",
       "\t10 & ssd\\_thickness & angle           &  0.7533938     \\\\\n",
       "\t12 & angle           & chord\\_length  & -0.5048681     \\\\\n",
       "\t22 & angle           & ssd\\_thickness &  0.7533938     \\\\\n",
       "\\end{tabular}\n"
      ],
      "text/markdown": [
       "\n",
       "| <!--/--> | Var1 | Var2 | Freq | \n",
       "|---|---|---|---|\n",
       "| 8 | chord_length  | angle         | -0.5048681    | \n",
       "| 10 | ssd_thickness | angle         |  0.7533938    | \n",
       "| 12 | angle         | chord_length  | -0.5048681    | \n",
       "| 22 | angle         | ssd_thickness |  0.7533938    | \n",
       "\n",
       "\n"
      ],
      "text/plain": [
       "   Var1          Var2          Freq      \n",
       "8  chord_length  angle         -0.5048681\n",
       "10 ssd_thickness angle          0.7533938\n",
       "12 angle         chord_length  -0.5048681\n",
       "22 angle         ssd_thickness  0.7533938"
      ]
     },
     "metadata": {},
     "output_type": "display_data"
    }
   ],
   "source": [
    "correlations"
   ]
  },
  {
   "cell_type": "markdown",
   "metadata": {},
   "source": [
    "Как видно угол атаки сильно коррелирует с толщиной вытеснения на выпуклой стороне и с длинной хорды. B задаче линейной регрессии $y=Xb + \\varepsilon$ для метода МНК оценки коэффициентов можно получить по следующей формуле  $\\hat{b}=(X^TX)^{-1}X^Ty$. Наличие строгой линейной зависмости между признаками ведет к вырожденности матрицы $(X^TX)$ и невозвожности однозначно получить оценки.\n",
    "\n",
    "Рассмотрим случай $n=2$. Тогда матрица $\\frac{1}{n}(X^TX)$ имеет следующий вид:\n",
    "$$ \\frac{1}{n}(X^TX) = \\left[\n",
    "\\begin{array}{ccc}\n",
    "\t1 & \\overline{x_1} & \\overline{x_2} \\\\\n",
    "\t\\overline{x_1} & \\overline{x_1^2} & \\overline{x_1x_2}\\\\\n",
    "\t\\overline{x_2} & \\overline{x_1x_2} & \\overline{x_2^2}\\\\\n",
    "\\end{array} \n",
    "\\right]\n",
    " $$\n",
    " \n",
    " Отсюда $$det \\left(X^TX\\right) = Var(x_1)Var(x_2) - Cov(x_1, x_2)^2$$\n",
    " \n",
    " В терминах коэффициента корреляции это равносильно\n",
    " $$det \\left(X^TX\\right)= Var(x_1)Var(x_2) \\left( 1 - \\rho(x_1, x_2)^2 \\right)$$\n",
    "\n",
    "Таким образом, когда $\\rho(x_1, x_2) \\approx 1$ определитель матрицы становится близок к нулю, что влияет на вычисление обратной матрицы."
   ]
  },
  {
   "cell_type": "code",
   "execution_count": 7,
   "metadata": {
    "collapsed": false
   },
   "outputs": [],
   "source": [
    "X = as.matrix(cbind(1, df[,c('frequency',\n",
    "                            'angle',\n",
    "                            'chord_length', \n",
    "                            'fs_velocity',  \n",
    "                            'ssd_thickness')]))\n",
    "X_a = as.matrix(cbind(1, df[,c('frequency',\n",
    "                            'chord_length', \n",
    "                            'fs_velocity',  \n",
    "                            'ssd_thickness')]))"
   ]
  },
  {
   "cell_type": "code",
   "execution_count": 8,
   "metadata": {
    "collapsed": false
   },
   "outputs": [
    {
     "data": {
      "text/html": [
       "3.75707446957653e+23"
      ],
      "text/latex": [
       "3.75707446957653e+23"
      ],
      "text/markdown": [
       "3.75707446957653e+23"
      ],
      "text/plain": [
       "[1] 3.757074e+23"
      ]
     },
     "metadata": {},
     "output_type": "display_data"
    }
   ],
   "source": [
    "det(t(X) %*% X)"
   ]
  },
  {
   "cell_type": "code",
   "execution_count": 9,
   "metadata": {
    "collapsed": false
   },
   "outputs": [
    {
     "data": {
      "text/html": [
       "24579825513169477632"
      ],
      "text/latex": [
       "24579825513169477632"
      ],
      "text/markdown": [
       "24579825513169477632"
      ],
      "text/plain": [
       "[1] 2.457983e+19"
      ]
     },
     "metadata": {},
     "output_type": "display_data"
    }
   ],
   "source": [
    "det(t(X_a) %*% X_a)"
   ]
  },
  {
   "cell_type": "markdown",
   "metadata": {},
   "source": [
    "Поскольку определитель $X^TX$ не близок к нулю, то мы не будем исключать признаки."
   ]
  },
  {
   "cell_type": "code",
   "execution_count": 10,
   "metadata": {
    "collapsed": false
   },
   "outputs": [],
   "source": [
    "linear_model <- lm(sound_level ~ frequency + chord_length + fs_velocity + ssd_thickness + angle, data=df)"
   ]
  },
  {
   "cell_type": "code",
   "execution_count": 11,
   "metadata": {
    "collapsed": false
   },
   "outputs": [
    {
     "data": {
      "text/plain": [
       "\n",
       "Call:\n",
       "lm(formula = sound_level ~ frequency + chord_length + fs_velocity + \n",
       "    ssd_thickness + angle, data = df)\n",
       "\n",
       "Residuals:\n",
       "    Min      1Q  Median      3Q     Max \n",
       "-17.480  -2.882  -0.209   3.152  16.064 \n",
       "\n",
       "Coefficients:\n",
       "                Estimate Std. Error t value Pr(>|t|)    \n",
       "(Intercept)    1.328e+02  5.447e-01  243.87   <2e-16 ***\n",
       "frequency     -1.282e-03  4.211e-05  -30.45   <2e-16 ***\n",
       "chord_length  -3.569e+01  1.630e+00  -21.89   <2e-16 ***\n",
       "fs_velocity    9.985e-02  8.132e-03   12.28   <2e-16 ***\n",
       "ssd_thickness -1.473e+02  1.501e+01   -9.81   <2e-16 ***\n",
       "angle         -4.219e-01  3.890e-02  -10.85   <2e-16 ***\n",
       "---\n",
       "Signif. codes:  0 '***' 0.001 '**' 0.01 '*' 0.05 '.' 0.1 ' ' 1\n",
       "\n",
       "Residual standard error: 4.809 on 1497 degrees of freedom\n",
       "Multiple R-squared:  0.5157,\tAdjusted R-squared:  0.5141 \n",
       "F-statistic: 318.8 on 5 and 1497 DF,  p-value: < 2.2e-16\n"
      ]
     },
     "metadata": {},
     "output_type": "display_data"
    }
   ],
   "source": [
    "summary(linear_model)"
   ]
  },
  {
   "cell_type": "markdown",
   "metadata": {},
   "source": [
    "Как видно имеется линейная зависимость, поскольку \n",
    "\n",
    "1) Все коэффициенты линейной регрессии являются значимыми при уровне значимости 0.05. \n",
    "\n",
    "2) Также коэффициент $R^2$ значительно больше 0. \n",
    "\n",
    "3) При уровне значимости 0.05 нулевая гипотеза о равенстве коэффициентов нулю может быть отвергнута по Критерию Фишера поскольку p-value значительно меньше 0.05."
   ]
  },
  {
   "cell_type": "markdown",
   "metadata": {},
   "source": [
    "## Линейная регрессия: прогноз\n",
    "Поскольку все вакторы имеют численный тип, то в качестве точки для прогноза можно выбрать точку со средним значением по каждому из факторов."
   ]
  },
  {
   "cell_type": "code",
   "execution_count": 12,
   "metadata": {
    "collapsed": false
   },
   "outputs": [
    {
     "data": {
      "text/html": [
       "<table>\n",
       "<thead><tr><th scope=col>frequency</th><th scope=col>angle</th><th scope=col>chord_length</th><th scope=col>fs_velocity</th><th scope=col>ssd_thickness</th><th scope=col>sound_level</th></tr></thead>\n",
       "<tbody>\n",
       "\t<tr><td>2886.381  </td><td>6.782302  </td><td>0.1365482 </td><td>50.86075  </td><td>0.01113988</td><td>124.8359  </td></tr>\n",
       "</tbody>\n",
       "</table>\n"
      ],
      "text/latex": [
       "\\begin{tabular}{r|llllll}\n",
       " frequency & angle & chord\\_length & fs\\_velocity & ssd\\_thickness & sound\\_level\\\\\n",
       "\\hline\n",
       "\t 2886.381   & 6.782302   & 0.1365482  & 50.86075   & 0.01113988 & 124.8359  \\\\\n",
       "\\end{tabular}\n"
      ],
      "text/markdown": [
       "\n",
       "frequency | angle | chord_length | fs_velocity | ssd_thickness | sound_level | \n",
       "|---|\n",
       "| 2886.381   | 6.782302   | 0.1365482  | 50.86075   | 0.01113988 | 124.8359   | \n",
       "\n",
       "\n"
      ],
      "text/plain": [
       "  frequency angle    chord_length fs_velocity ssd_thickness sound_level\n",
       "1 2886.381  6.782302 0.1365482    50.86075    0.01113988    124.8359   "
      ]
     },
     "metadata": {},
     "output_type": "display_data"
    }
   ],
   "source": [
    "newdf <- as.data.frame.list(colMeans(df))\n",
    "newdf"
   ]
  },
  {
   "cell_type": "markdown",
   "metadata": {},
   "source": [
    "Перед построением прогноза необходимо убедиться, что остатки распределены согласно нормальному закону."
   ]
  },
  {
   "cell_type": "code",
   "execution_count": 13,
   "metadata": {
    "collapsed": false
   },
   "outputs": [
    {
     "data": {
      "image/png": "[encoded data removed]",
      "text/plain": [
       "Plot with title \"Histogram of linear_model$residuals\""
      ]
     },
     "metadata": {},
     "output_type": "display_data"
    }
   ],
   "source": [
    "options(repr.plot.width = 10, repr.plot.height = 5)\n",
    "hist(linear_model$residuals, probability = T)"
   ]
  },
  {
   "cell_type": "code",
   "execution_count": 14,
   "metadata": {
    "collapsed": false
   },
   "outputs": [
    {
     "data": {
      "text/plain": [
       "\n",
       "\tShapiro-Wilk normality test\n",
       "\n",
       "data:  linear_model$residuals\n",
       "W = 0.99563, p-value = 0.0002465\n"
      ]
     },
     "metadata": {},
     "output_type": "display_data"
    }
   ],
   "source": [
    "shapiro.test(linear_model$residuals)"
   ]
  },
  {
   "cell_type": "code",
   "execution_count": 15,
   "metadata": {
    "collapsed": false
   },
   "outputs": [
    {
     "data": {
      "text/plain": [
       "\n",
       "\tOne-sample Kolmogorov-Smirnov test\n",
       "\n",
       "data:  linear_model$residuals\n",
       "D = 0.027418, p-value = 0.2085\n",
       "alternative hypothesis: two-sided\n"
      ]
     },
     "metadata": {},
     "output_type": "display_data"
    }
   ],
   "source": [
    "ks.test(linear_model$residuals, pnorm, mean(linear_model$residuals), sd(linear_model$residuals))"
   ]
  },
  {
   "cell_type": "markdown",
   "metadata": {},
   "source": [
    "При уровне значимости 0.05 согласно критерию Шапиро–Уилка гипотеза о нормальности должна быть отвергнута.  \n",
    "Но по критерию Колмогорова–Смирнова данные не противоречат гипотезе о нормальности.\n",
    "\n",
    "Построим прогноз с доверительным 95% интервалом для выбранной точки."
   ]
  },
  {
   "cell_type": "code",
   "execution_count": 16,
   "metadata": {
    "collapsed": false
   },
   "outputs": [
    {
     "data": {
      "text/html": [
       "<table>\n",
       "<thead><tr><th></th><th scope=col>fit</th><th scope=col>lwr</th><th scope=col>upr</th></tr></thead>\n",
       "<tbody>\n",
       "\t<tr><th scope=row>1</th><td>124.8359</td><td>115.4   </td><td>134.2719</td></tr>\n",
       "</tbody>\n",
       "</table>\n"
      ],
      "text/latex": [
       "\\begin{tabular}{r|lll}\n",
       "  & fit & lwr & upr\\\\\n",
       "\\hline\n",
       "\t1 & 124.8359 & 115.4    & 134.2719\\\\\n",
       "\\end{tabular}\n"
      ],
      "text/markdown": [
       "\n",
       "| <!--/--> | fit | lwr | upr | \n",
       "|---|\n",
       "| 1 | 124.8359 | 115.4    | 134.2719 | \n",
       "\n",
       "\n"
      ],
      "text/plain": [
       "  fit      lwr   upr     \n",
       "1 124.8359 115.4 134.2719"
      ]
     },
     "metadata": {},
     "output_type": "display_data"
    }
   ],
   "source": [
    "predict(linear_model, newdf, interval=\"predict\") "
   ]
  },
  {
   "cell_type": "markdown",
   "metadata": {},
   "source": [
    "# Квантильная регрессия"
   ]
  },
  {
   "cell_type": "code",
   "execution_count": 17,
   "metadata": {
    "collapsed": false
   },
   "outputs": [
    {
     "name": "stderr",
     "output_type": "stream",
     "text": [
      "Loading required package: SparseM\n",
      "\n",
      "Attaching package: 'SparseM'\n",
      "\n",
      "The following object is masked from 'package:base':\n",
      "\n",
      "    backsolve\n",
      "\n"
     ]
    }
   ],
   "source": [
    "library(\"quantreg\")"
   ]
  },
  {
   "cell_type": "markdown",
   "metadata": {},
   "source": [
    "Аналогично потсроим зависимости для квнтильной регрессии с квантилями 0.25, 0.5 и 0.75."
   ]
  },
  {
   "cell_type": "code",
   "execution_count": 18,
   "metadata": {
    "collapsed": false
   },
   "outputs": [
    {
     "data": {
      "text/plain": [
       "\n",
       "Call: rq(formula = sound_level ~ frequency + chord_length + fs_velocity + \n",
       "    ssd_thickness + angle, tau = 0.25, data = df)\n",
       "\n",
       "tau: [1] 0.25\n",
       "\n",
       "Coefficients:\n",
       "              Value      Std. Error t value    Pr(>|t|)  \n",
       "(Intercept)    129.99128    0.62096  209.34090    0.00000\n",
       "frequency       -0.00144    0.00005  -29.21243    0.00000\n",
       "chord_length   -30.55913    1.92197  -15.89989    0.00000\n",
       "fs_velocity      0.10573    0.00805   13.13907    0.00000\n",
       "ssd_thickness -174.67618   23.37356   -7.47324    0.00000\n",
       "angle           -0.49486    0.06403   -7.72841    0.00000"
      ]
     },
     "metadata": {},
     "output_type": "display_data"
    }
   ],
   "source": [
    "quantile_model <- rq(sound_level ~ frequency + chord_length + fs_velocity + ssd_thickness + angle,  data=df, tau=0.25)\n",
    "summary(quantile_model, se=\"boot\")"
   ]
  },
  {
   "cell_type": "code",
   "execution_count": 38,
   "metadata": {
    "collapsed": false
   },
   "outputs": [
    {
     "data": {
      "text/plain": [
       "\n",
       "Call: rq(formula = sound_level ~ frequency + chord_length + fs_velocity + \n",
       "    ssd_thickness, tau = 0.5, data = df)\n",
       "\n",
       "tau: [1] 0.5\n",
       "\n",
       "Coefficients:\n",
       "              Value      Std. Error t value    Pr(>|t|)  \n",
       "(Intercept)    131.83935    0.60770  216.94921    0.00000\n",
       "frequency       -0.00148    0.00008  -18.63350    0.00000\n",
       "chord_length   -29.39741    1.60024  -18.37066    0.00000\n",
       "fs_velocity      0.09031    0.00951    9.49182    0.00000\n",
       "ssd_thickness -303.96960   15.06719  -20.17428    0.00000"
      ]
     },
     "metadata": {},
     "output_type": "display_data"
    }
   ],
   "source": [
    "quantile_model <- rq(sound_level ~ frequency + chord_length + fs_velocity + ssd_thickness + angle, data=df, tau=0.5)\n",
    "summary(quantile_model, se=\"boot\")"
   ]
  },
  {
   "cell_type": "code",
   "execution_count": 19,
   "metadata": {
    "collapsed": false
   },
   "outputs": [
    {
     "data": {
      "text/plain": [
       "\n",
       "Call: rq(formula = sound_level ~ frequency + chord_length + fs_velocity + \n",
       "    ssd_thickness + angle, tau = 0.75, data = df)\n",
       "\n",
       "tau: [1] 0.75\n",
       "\n",
       "Coefficients:\n",
       "              Value      Std. Error t value    Pr(>|t|)  \n",
       "(Intercept)    137.67466    0.67540  203.84213    0.00000\n",
       "frequency       -0.00146    0.00008  -19.05446    0.00000\n",
       "chord_length   -43.12223    2.64798  -16.28493    0.00000\n",
       "fs_velocity      0.09190    0.01321    6.95926    0.00000\n",
       "ssd_thickness -163.48923   38.73477   -4.22074    0.00003\n",
       "angle           -0.40132    0.08364   -4.79835    0.00000"
      ]
     },
     "metadata": {},
     "output_type": "display_data"
    }
   ],
   "source": [
    "quantile_model <- rq(sound_level ~ frequency + chord_length + fs_velocity + ssd_thickness + angle, data=df, tau=0.75)\n",
    "summary(quantile_model, se=\"boot\")"
   ]
  },
  {
   "cell_type": "markdown",
   "metadata": {},
   "source": [
    "Во всех случаях коэффициенты регрессии значимы. Заметим также, что для разных квантилей мы получили разные зависимости. То есть для лопаток с высоким уровнем шума и для лопаток с низким уровнем шума зависисмость от факторов различна."
   ]
  },
  {
   "cell_type": "markdown",
   "metadata": {},
   "source": [
    "## Квантильная регрессия: прогноз"
   ]
  },
  {
   "cell_type": "markdown",
   "metadata": {},
   "source": [
    "Аналогично линейной регрессии построим прогноз для квантильной регрессии с квантилем 0.75"
   ]
  },
  {
   "cell_type": "code",
   "execution_count": 20,
   "metadata": {
    "collapsed": false
   },
   "outputs": [
    {
     "data": {
      "text/html": [
       "<table>\n",
       "<thead><tr><th scope=col>frequency</th><th scope=col>angle</th><th scope=col>chord_length</th><th scope=col>fs_velocity</th><th scope=col>ssd_thickness</th><th scope=col>sound_level</th></tr></thead>\n",
       "<tbody>\n",
       "\t<tr><td>2886.381  </td><td>6.782302  </td><td>0.1365482 </td><td>50.86075  </td><td>0.01113988</td><td>124.8359  </td></tr>\n",
       "</tbody>\n",
       "</table>\n"
      ],
      "text/latex": [
       "\\begin{tabular}{r|llllll}\n",
       " frequency & angle & chord\\_length & fs\\_velocity & ssd\\_thickness & sound\\_level\\\\\n",
       "\\hline\n",
       "\t 2886.381   & 6.782302   & 0.1365482  & 50.86075   & 0.01113988 & 124.8359  \\\\\n",
       "\\end{tabular}\n"
      ],
      "text/markdown": [
       "\n",
       "frequency | angle | chord_length | fs_velocity | ssd_thickness | sound_level | \n",
       "|---|\n",
       "| 2886.381   | 6.782302   | 0.1365482  | 50.86075   | 0.01113988 | 124.8359   | \n",
       "\n",
       "\n"
      ],
      "text/plain": [
       "  frequency angle    chord_length fs_velocity ssd_thickness sound_level\n",
       "1 2886.381  6.782302 0.1365482    50.86075    0.01113988    124.8359   "
      ]
     },
     "metadata": {},
     "output_type": "display_data"
    }
   ],
   "source": [
    "newdf <- as.data.frame.list(colMeans(df))\n",
    "newdf"
   ]
  },
  {
   "cell_type": "code",
   "execution_count": 21,
   "metadata": {
    "collapsed": false
   },
   "outputs": [
    {
     "data": {
      "image/png": "[encoded data removed]",
      "text/plain": [
       "Plot with title \"Histogram of quantile_model$residuals\""
      ]
     },
     "metadata": {},
     "output_type": "display_data"
    }
   ],
   "source": [
    "hist(quantile_model$residuals, probability = T)"
   ]
  },
  {
   "cell_type": "code",
   "execution_count": 22,
   "metadata": {
    "collapsed": false
   },
   "outputs": [
    {
     "data": {
      "text/plain": [
       "\n",
       "\tShapiro-Wilk normality test\n",
       "\n",
       "data:  quantile_model$residuals\n",
       "W = 0.98832, p-value = 1.258e-09\n"
      ]
     },
     "metadata": {},
     "output_type": "display_data"
    }
   ],
   "source": [
    "shapiro.test(quantile_model$residuals)"
   ]
  },
  {
   "cell_type": "code",
   "execution_count": 23,
   "metadata": {
    "collapsed": false
   },
   "outputs": [
    {
     "data": {
      "text/plain": [
       "\n",
       "\tOne-sample Kolmogorov-Smirnov test\n",
       "\n",
       "data:  linear_model$residuals\n",
       "D = 0.027418, p-value = 0.2085\n",
       "alternative hypothesis: two-sided\n"
      ]
     },
     "metadata": {},
     "output_type": "display_data"
    }
   ],
   "source": [
    "ks.test(linear_model$residuals, pnorm, mean(linear_model$residuals), sd(linear_model$residuals))"
   ]
  },
  {
   "cell_type": "markdown",
   "metadata": {},
   "source": [
    "По-прежнему нормальность остатков отвергается критерием Шапиро–Уилка и принимается критерием Колмогорова–Смирнова."
   ]
  },
  {
   "cell_type": "code",
   "execution_count": 24,
   "metadata": {
    "collapsed": false
   },
   "outputs": [
    {
     "data": {
      "text/html": [
       "<table>\n",
       "<thead><tr><th></th><th scope=col>fit</th><th scope=col>lower</th><th scope=col>higher</th></tr></thead>\n",
       "<tbody>\n",
       "\t<tr><th scope=row>1</th><td>127.7053</td><td>127.3056</td><td>128.1051</td></tr>\n",
       "</tbody>\n",
       "</table>\n"
      ],
      "text/latex": [
       "\\begin{tabular}{r|lll}\n",
       "  & fit & lower & higher\\\\\n",
       "\\hline\n",
       "\t1 & 127.7053 & 127.3056 & 128.1051\\\\\n",
       "\\end{tabular}\n"
      ],
      "text/markdown": [
       "\n",
       "| <!--/--> | fit | lower | higher | \n",
       "|---|\n",
       "| 1 | 127.7053 | 127.3056 | 128.1051 | \n",
       "\n",
       "\n"
      ],
      "text/plain": [
       "  fit      lower    higher  \n",
       "1 127.7053 127.3056 128.1051"
      ]
     },
     "metadata": {},
     "output_type": "display_data"
    }
   ],
   "source": [
    "predict(quantile_model, newdf, interval=c(\"confidence\")) "
   ]
  }
 ],
 "metadata": {
  "anaconda-cloud": {},
  "kernelspec": {
   "display_name": "R",
   "language": "R",
   "name": "ir"
  },
  "language_info": {
   "codemirror_mode": "r",
   "file_extension": ".r",
   "mimetype": "text/x-r-source",
   "name": "R",
   "pygments_lexer": "r",
   "version": "3.3.3"
  }
 },
 "nbformat": 4,
 "nbformat_minor": 2
}
